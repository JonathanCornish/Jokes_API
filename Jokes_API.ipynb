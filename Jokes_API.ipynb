{
  "nbformat": 4,
  "nbformat_minor": 0,
  "metadata": {
    "colab": {
      "name": "Jokes_API.ipynb",
      "provenance": [],
      "authorship_tag": "ABX9TyO7Os6/04/VjKbdWdbo8Kkr",
      "include_colab_link": true
    },
    "kernelspec": {
      "name": "python3",
      "display_name": "Python 3"
    }
  },
  "cells": [
    {
      "cell_type": "markdown",
      "metadata": {
        "id": "view-in-github",
        "colab_type": "text"
      },
      "source": [
        "<a href=\"https://colab.research.google.com/github/JonathanCornish/Jokes_API/blob/master/Jokes_API.ipynb\" target=\"_parent\"><img src=\"https://colab.research.google.com/assets/colab-badge.svg\" alt=\"Open In Colab\"/></a>"
      ]
    },
    {
      "cell_type": "markdown",
      "metadata": {
        "id": "cXVdtHgNp_vk",
        "colab_type": "text"
      },
      "source": [
        "This program grabs a random joke from the Jokes API: https://github.com/15Dkatz/official_joke_api"
      ]
    },
    {
      "cell_type": "code",
      "metadata": {
        "id": "CBx5vq9BqCES",
        "colab_type": "code",
        "colab": {}
      },
      "source": [
        "import json\n",
        "import requests"
      ],
      "execution_count": 0,
      "outputs": []
    },
    {
      "cell_type": "code",
      "metadata": {
        "id": "mYq7ilRhqKjV",
        "colab_type": "code",
        "colab": {}
      },
      "source": [
        "base_url = 'https://official-joke-api.appspot.com/random_joke'"
      ],
      "execution_count": 0,
      "outputs": []
    },
    {
      "cell_type": "code",
      "metadata": {
        "id": "I5tUlWl6qNfQ",
        "colab_type": "code",
        "colab": {
          "base_uri": "https://localhost:8080/",
          "height": 34
        },
        "outputId": "9e50b662-5b18-483e-ca9f-7ff05c080b2b"
      },
      "source": [
        "r = requests.get(base_url)\n",
        "r"
      ],
      "execution_count": 6,
      "outputs": [
        {
          "output_type": "execute_result",
          "data": {
            "text/plain": [
              "<Response [200]>"
            ]
          },
          "metadata": {
            "tags": []
          },
          "execution_count": 6
        }
      ]
    },
    {
      "cell_type": "code",
      "metadata": {
        "id": "B80WdzqHqeL2",
        "colab_type": "code",
        "colab": {
          "base_uri": "https://localhost:8080/",
          "height": 118
        },
        "outputId": "9032ec8c-16d1-4615-f404-0dc2a7ff5950"
      },
      "source": [
        "print(json.dumps(r.json(),indent=4))"
      ],
      "execution_count": 8,
      "outputs": [
        {
          "output_type": "stream",
          "text": [
            "{\n",
            "    \"id\": 345,\n",
            "    \"type\": \"general\",\n",
            "    \"setup\": \"Why did the melons plan a big wedding?\",\n",
            "    \"punchline\": \"Because they cantaloupe!\"\n",
            "}\n"
          ],
          "name": "stdout"
        }
      ]
    },
    {
      "cell_type": "code",
      "metadata": {
        "id": "FfVqDNGUqrkk",
        "colab_type": "code",
        "colab": {}
      },
      "source": [
        ""
      ],
      "execution_count": 0,
      "outputs": []
    }
  ]
}